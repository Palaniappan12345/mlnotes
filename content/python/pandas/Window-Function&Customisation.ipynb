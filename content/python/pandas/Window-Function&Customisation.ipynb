{
 "cells": [
  {
   "cell_type": "raw",
   "metadata": {},
   "source": [
    "---\n",
    "title: \"Window-Function&Customisation\"\n",
    "author: \"Palaniappan S\"\n",
    "date: 2020-09-04\n",
    "description: \"-\"\n",
    "type: technical_note\n",
    "draft: false\n",
    "---"
   ]
  },
  {
   "cell_type": "code",
   "execution_count": 1,
   "metadata": {},
   "outputs": [],
   "source": [
    "import numpy as np\n",
    "import scipy.stats\n",
    "import pandas as pd\n",
    "import sklearn"
   ]
  },
  {
   "cell_type": "code",
   "execution_count": 2,
   "metadata": {},
   "outputs": [
    {
     "data": {
      "text/html": [
       "<div>\n",
       "<style scoped>\n",
       "    .dataframe tbody tr th:only-of-type {\n",
       "        vertical-align: middle;\n",
       "    }\n",
       "\n",
       "    .dataframe tbody tr th {\n",
       "        vertical-align: top;\n",
       "    }\n",
       "\n",
       "    .dataframe thead th {\n",
       "        text-align: right;\n",
       "    }\n",
       "</style>\n",
       "<table border=\"1\" class=\"dataframe\">\n",
       "  <thead>\n",
       "    <tr style=\"text-align: right;\">\n",
       "      <th></th>\n",
       "      <th>A</th>\n",
       "      <th>B</th>\n",
       "      <th>C</th>\n",
       "      <th>D</th>\n",
       "    </tr>\n",
       "  </thead>\n",
       "  <tbody>\n",
       "    <tr>\n",
       "      <th>2000-01-01</th>\n",
       "      <td>NaN</td>\n",
       "      <td>NaN</td>\n",
       "      <td>NaN</td>\n",
       "      <td>NaN</td>\n",
       "    </tr>\n",
       "    <tr>\n",
       "      <th>2000-01-02</th>\n",
       "      <td>NaN</td>\n",
       "      <td>NaN</td>\n",
       "      <td>NaN</td>\n",
       "      <td>NaN</td>\n",
       "    </tr>\n",
       "    <tr>\n",
       "      <th>2000-01-03</th>\n",
       "      <td>0.311467</td>\n",
       "      <td>-1.033477</td>\n",
       "      <td>0.871825</td>\n",
       "      <td>-0.992692</td>\n",
       "    </tr>\n",
       "    <tr>\n",
       "      <th>2000-01-04</th>\n",
       "      <td>0.854701</td>\n",
       "      <td>-1.056851</td>\n",
       "      <td>0.662261</td>\n",
       "      <td>0.516942</td>\n",
       "    </tr>\n",
       "    <tr>\n",
       "      <th>2000-01-05</th>\n",
       "      <td>0.774725</td>\n",
       "      <td>-0.189442</td>\n",
       "      <td>0.136878</td>\n",
       "      <td>0.577512</td>\n",
       "    </tr>\n",
       "    <tr>\n",
       "      <th>2000-01-06</th>\n",
       "      <td>-0.335505</td>\n",
       "      <td>0.219438</td>\n",
       "      <td>-0.733072</td>\n",
       "      <td>0.809357</td>\n",
       "    </tr>\n",
       "    <tr>\n",
       "      <th>2000-01-07</th>\n",
       "      <td>-1.208347</td>\n",
       "      <td>0.589643</td>\n",
       "      <td>-0.192675</td>\n",
       "      <td>0.471429</td>\n",
       "    </tr>\n",
       "    <tr>\n",
       "      <th>2000-01-08</th>\n",
       "      <td>-1.383454</td>\n",
       "      <td>0.003680</td>\n",
       "      <td>0.496591</td>\n",
       "      <td>0.161725</td>\n",
       "    </tr>\n",
       "    <tr>\n",
       "      <th>2000-01-09</th>\n",
       "      <td>-1.016053</td>\n",
       "      <td>-0.410407</td>\n",
       "      <td>0.509543</td>\n",
       "      <td>0.557628</td>\n",
       "    </tr>\n",
       "    <tr>\n",
       "      <th>2000-01-10</th>\n",
       "      <td>-0.730760</td>\n",
       "      <td>-0.034967</td>\n",
       "      <td>-0.407383</td>\n",
       "      <td>-0.074819</td>\n",
       "    </tr>\n",
       "  </tbody>\n",
       "</table>\n",
       "</div>"
      ],
      "text/plain": [
       "                   A         B         C         D\n",
       "2000-01-01       NaN       NaN       NaN       NaN\n",
       "2000-01-02       NaN       NaN       NaN       NaN\n",
       "2000-01-03  0.311467 -1.033477  0.871825 -0.992692\n",
       "2000-01-04  0.854701 -1.056851  0.662261  0.516942\n",
       "2000-01-05  0.774725 -0.189442  0.136878  0.577512\n",
       "2000-01-06 -0.335505  0.219438 -0.733072  0.809357\n",
       "2000-01-07 -1.208347  0.589643 -0.192675  0.471429\n",
       "2000-01-08 -1.383454  0.003680  0.496591  0.161725\n",
       "2000-01-09 -1.016053 -0.410407  0.509543  0.557628\n",
       "2000-01-10 -0.730760 -0.034967 -0.407383 -0.074819"
      ]
     },
     "execution_count": 2,
     "metadata": {},
     "output_type": "execute_result"
    }
   ],
   "source": [
    "df = pd.DataFrame(np.random.randn(10, 4),\n",
    "   index = pd.date_range('1/1/2000', periods=10),\n",
    "   columns = ['A', 'B', 'C', 'D'])\n",
    "df.rolling(window=3).mean()"
   ]
  },
  {
   "cell_type": "code",
   "execution_count": 3,
   "metadata": {},
   "outputs": [
    {
     "data": {
      "text/html": [
       "<div>\n",
       "<style scoped>\n",
       "    .dataframe tbody tr th:only-of-type {\n",
       "        vertical-align: middle;\n",
       "    }\n",
       "\n",
       "    .dataframe tbody tr th {\n",
       "        vertical-align: top;\n",
       "    }\n",
       "\n",
       "    .dataframe thead th {\n",
       "        text-align: right;\n",
       "    }\n",
       "</style>\n",
       "<table border=\"1\" class=\"dataframe\">\n",
       "  <thead>\n",
       "    <tr style=\"text-align: right;\">\n",
       "      <th></th>\n",
       "      <th>A</th>\n",
       "      <th>B</th>\n",
       "      <th>C</th>\n",
       "      <th>D</th>\n",
       "    </tr>\n",
       "  </thead>\n",
       "  <tbody>\n",
       "    <tr>\n",
       "      <th>2000-01-01</th>\n",
       "      <td>NaN</td>\n",
       "      <td>NaN</td>\n",
       "      <td>NaN</td>\n",
       "      <td>NaN</td>\n",
       "    </tr>\n",
       "    <tr>\n",
       "      <th>2000-01-02</th>\n",
       "      <td>NaN</td>\n",
       "      <td>NaN</td>\n",
       "      <td>NaN</td>\n",
       "      <td>NaN</td>\n",
       "    </tr>\n",
       "    <tr>\n",
       "      <th>2000-01-03</th>\n",
       "      <td>0.311467</td>\n",
       "      <td>-1.033477</td>\n",
       "      <td>0.871825</td>\n",
       "      <td>-0.992692</td>\n",
       "    </tr>\n",
       "    <tr>\n",
       "      <th>2000-01-04</th>\n",
       "      <td>0.569946</td>\n",
       "      <td>-1.135858</td>\n",
       "      <td>0.587301</td>\n",
       "      <td>-0.226914</td>\n",
       "    </tr>\n",
       "    <tr>\n",
       "      <th>2000-01-05</th>\n",
       "      <td>0.329775</td>\n",
       "      <td>-0.647575</td>\n",
       "      <td>0.165601</td>\n",
       "      <td>-0.277195</td>\n",
       "    </tr>\n",
       "    <tr>\n",
       "      <th>2000-01-06</th>\n",
       "      <td>-0.012019</td>\n",
       "      <td>-0.407019</td>\n",
       "      <td>0.069376</td>\n",
       "      <td>-0.091668</td>\n",
       "    </tr>\n",
       "    <tr>\n",
       "      <th>2000-01-07</th>\n",
       "      <td>-0.192180</td>\n",
       "      <td>-0.396358</td>\n",
       "      <td>0.253026</td>\n",
       "      <td>0.072376</td>\n",
       "    </tr>\n",
       "    <tr>\n",
       "      <th>2000-01-08</th>\n",
       "      <td>-0.312686</td>\n",
       "      <td>-0.403354</td>\n",
       "      <td>0.289722</td>\n",
       "      <td>-0.112600</td>\n",
       "    </tr>\n",
       "    <tr>\n",
       "      <th>2000-01-09</th>\n",
       "      <td>-0.346697</td>\n",
       "      <td>-0.408149</td>\n",
       "      <td>0.216099</td>\n",
       "      <td>0.124764</td>\n",
       "    </tr>\n",
       "    <tr>\n",
       "      <th>2000-01-10</th>\n",
       "      <td>-0.353754</td>\n",
       "      <td>-0.287941</td>\n",
       "      <td>0.054903</td>\n",
       "      <td>0.028217</td>\n",
       "    </tr>\n",
       "  </tbody>\n",
       "</table>\n",
       "</div>"
      ],
      "text/plain": [
       "                   A         B         C         D\n",
       "2000-01-01       NaN       NaN       NaN       NaN\n",
       "2000-01-02       NaN       NaN       NaN       NaN\n",
       "2000-01-03  0.311467 -1.033477  0.871825 -0.992692\n",
       "2000-01-04  0.569946 -1.135858  0.587301 -0.226914\n",
       "2000-01-05  0.329775 -0.647575  0.165601 -0.277195\n",
       "2000-01-06 -0.012019 -0.407019  0.069376 -0.091668\n",
       "2000-01-07 -0.192180 -0.396358  0.253026  0.072376\n",
       "2000-01-08 -0.312686 -0.403354  0.289722 -0.112600\n",
       "2000-01-09 -0.346697 -0.408149  0.216099  0.124764\n",
       "2000-01-10 -0.353754 -0.287941  0.054903  0.028217"
      ]
     },
     "execution_count": 3,
     "metadata": {},
     "output_type": "execute_result"
    }
   ],
   "source": [
    "df.expanding(min_periods=3).mean()"
   ]
  },
  {
   "cell_type": "code",
   "execution_count": 4,
   "metadata": {},
   "outputs": [
    {
     "data": {
      "text/html": [
       "<div>\n",
       "<style scoped>\n",
       "    .dataframe tbody tr th:only-of-type {\n",
       "        vertical-align: middle;\n",
       "    }\n",
       "\n",
       "    .dataframe tbody tr th {\n",
       "        vertical-align: top;\n",
       "    }\n",
       "\n",
       "    .dataframe thead th {\n",
       "        text-align: right;\n",
       "    }\n",
       "</style>\n",
       "<table border=\"1\" class=\"dataframe\">\n",
       "  <thead>\n",
       "    <tr style=\"text-align: right;\">\n",
       "      <th></th>\n",
       "      <th>A</th>\n",
       "      <th>B</th>\n",
       "      <th>C</th>\n",
       "      <th>D</th>\n",
       "    </tr>\n",
       "  </thead>\n",
       "  <tbody>\n",
       "    <tr>\n",
       "      <th>2000-01-01</th>\n",
       "      <td>-0.284317</td>\n",
       "      <td>-1.372879</td>\n",
       "      <td>0.362422</td>\n",
       "      <td>-2.458484</td>\n",
       "    </tr>\n",
       "    <tr>\n",
       "      <th>2000-01-02</th>\n",
       "      <td>-0.364315</td>\n",
       "      <td>-1.315721</td>\n",
       "      <td>0.131816</td>\n",
       "      <td>-1.109642</td>\n",
       "    </tr>\n",
       "    <tr>\n",
       "      <th>2000-01-03</th>\n",
       "      <td>1.002311</td>\n",
       "      <td>-0.703140</td>\n",
       "      <td>1.562323</td>\n",
       "      <td>-0.244204</td>\n",
       "    </tr>\n",
       "    <tr>\n",
       "      <th>2000-01-04</th>\n",
       "      <td>1.233885</td>\n",
       "      <td>-1.202547</td>\n",
       "      <td>0.328024</td>\n",
       "      <td>1.318167</td>\n",
       "    </tr>\n",
       "    <tr>\n",
       "      <th>2000-01-05</th>\n",
       "      <td>-0.014448</td>\n",
       "      <td>0.476433</td>\n",
       "      <td>-0.909888</td>\n",
       "      <td>0.115561</td>\n",
       "    </tr>\n",
       "    <tr>\n",
       "      <th>2000-01-06</th>\n",
       "      <td>-1.153704</td>\n",
       "      <td>0.689609</td>\n",
       "      <td>-0.577336</td>\n",
       "      <td>0.596493</td>\n",
       "    </tr>\n",
       "    <tr>\n",
       "      <th>2000-01-07</th>\n",
       "      <td>-1.233368</td>\n",
       "      <td>0.007966</td>\n",
       "      <td>0.711425</td>\n",
       "      <td>0.903395</td>\n",
       "    </tr>\n",
       "    <tr>\n",
       "      <th>2000-01-08</th>\n",
       "      <td>-1.181935</td>\n",
       "      <td>-0.298944</td>\n",
       "      <td>0.601523</td>\n",
       "      <td>-0.637390</td>\n",
       "    </tr>\n",
       "    <tr>\n",
       "      <th>2000-01-09</th>\n",
       "      <td>-0.806483</td>\n",
       "      <td>-0.397323</td>\n",
       "      <td>-0.048119</td>\n",
       "      <td>1.136746</td>\n",
       "    </tr>\n",
       "    <tr>\n",
       "      <th>2000-01-10</th>\n",
       "      <td>-0.547000</td>\n",
       "      <td>0.396860</td>\n",
       "      <td>-0.946626</td>\n",
       "      <td>-0.181578</td>\n",
       "    </tr>\n",
       "  </tbody>\n",
       "</table>\n",
       "</div>"
      ],
      "text/plain": [
       "                   A         B         C         D\n",
       "2000-01-01 -0.284317 -1.372879  0.362422 -2.458484\n",
       "2000-01-02 -0.364315 -1.315721  0.131816 -1.109642\n",
       "2000-01-03  1.002311 -0.703140  1.562323 -0.244204\n",
       "2000-01-04  1.233885 -1.202547  0.328024  1.318167\n",
       "2000-01-05 -0.014448  0.476433 -0.909888  0.115561\n",
       "2000-01-06 -1.153704  0.689609 -0.577336  0.596493\n",
       "2000-01-07 -1.233368  0.007966  0.711425  0.903395\n",
       "2000-01-08 -1.181935 -0.298944  0.601523 -0.637390\n",
       "2000-01-09 -0.806483 -0.397323 -0.048119  1.136746\n",
       "2000-01-10 -0.547000  0.396860 -0.946626 -0.181578"
      ]
     },
     "execution_count": 4,
     "metadata": {},
     "output_type": "execute_result"
    }
   ],
   "source": [
    "df.ewm(com=0.5).mean()"
   ]
  },
  {
   "cell_type": "code",
   "execution_count": 5,
   "metadata": {},
   "outputs": [
    {
     "data": {
      "text/plain": [
       "60"
      ]
     },
     "execution_count": 5,
     "metadata": {},
     "output_type": "execute_result"
    }
   ],
   "source": [
    "pd.get_option(\"display.max_rows\")"
   ]
  },
  {
   "cell_type": "code",
   "execution_count": 6,
   "metadata": {},
   "outputs": [
    {
     "data": {
      "text/plain": [
       "20"
      ]
     },
     "execution_count": 6,
     "metadata": {},
     "output_type": "execute_result"
    }
   ],
   "source": [
    "pd.get_option(\"display.max_columns\")"
   ]
  },
  {
   "cell_type": "code",
   "execution_count": 7,
   "metadata": {},
   "outputs": [
    {
     "name": "stdout",
     "output_type": "stream",
     "text": [
      "80\n"
     ]
    }
   ],
   "source": [
    "pd.set_option(\"display.max_rows\",80)\n",
    "\n",
    "print (pd.get_option(\"display.max_rows\"))"
   ]
  },
  {
   "cell_type": "code",
   "execution_count": 8,
   "metadata": {},
   "outputs": [
    {
     "name": "stdout",
     "output_type": "stream",
     "text": [
      "30\n"
     ]
    }
   ],
   "source": [
    "pd.set_option(\"display.max_columns\",30)\n",
    "\n",
    "print (pd.get_option(\"display.max_columns\"))"
   ]
  },
  {
   "cell_type": "code",
   "execution_count": 9,
   "metadata": {},
   "outputs": [
    {
     "name": "stdout",
     "output_type": "stream",
     "text": [
      "60\n"
     ]
    }
   ],
   "source": [
    "pd.reset_option(\"display.max_rows\")\n",
    "print (pd.get_option(\"display.max_rows\"))"
   ]
  },
  {
   "cell_type": "code",
   "execution_count": 10,
   "metadata": {},
   "outputs": [
    {
     "name": "stdout",
     "output_type": "stream",
     "text": [
      "display.max_rows : int\n",
      "    If max_rows is exceeded, switch to truncate view. Depending on\n",
      "    `large_repr`, objects are either centrally truncated or printed as\n",
      "    a summary view. 'None' value means unlimited.\n",
      "\n",
      "    In case python/IPython is running in a terminal and `large_repr`\n",
      "    equals 'truncate' this can be set to 0 and pandas will auto-detect\n",
      "    the height of the terminal and print a truncated object which fits\n",
      "    the screen height. The IPython notebook, IPython qtconsole, or\n",
      "    IDLE do not run in a terminal and hence it is not possible to do\n",
      "    correct auto-detection.\n",
      "    [default: 60] [currently: 60]\n"
     ]
    }
   ],
   "source": [
    "pd.describe_option(\"display.max_rows\")"
   ]
  },
  {
   "cell_type": "code",
   "execution_count": 12,
   "metadata": {},
   "outputs": [
    {
     "name": "stdout",
     "output_type": "stream",
     "text": [
      "10\n"
     ]
    }
   ],
   "source": [
    "with pd.option_context(\"display.max_rows\",10):\n",
    "   print(pd.get_option(\"display.max_rows\"))\n",
    "   "
   ]
  },
  {
   "cell_type": "code",
   "execution_count": null,
   "metadata": {},
   "outputs": [],
   "source": []
  }
 ],
 "metadata": {
  "kernelspec": {
   "display_name": "kagglevil_",
   "language": "python",
   "name": "kagglevil_"
  },
  "language_info": {
   "codemirror_mode": {
    "name": "ipython",
    "version": 3
   },
   "file_extension": ".py",
   "mimetype": "text/x-python",
   "name": "python",
   "nbconvert_exporter": "python",
   "pygments_lexer": "ipython3",
   "version": "3.8.5"
  }
 },
 "nbformat": 4,
 "nbformat_minor": 4
}
