{
 "cells": [
  {
   "cell_type": "raw",
   "metadata": {},
   "source": [
    "---\n",
    "title: \"One-hot-encoding\"\n",
    "author: \"Palaniappan S\"\n",
    "date: 2020-09-04\n",
    "description: \"-\"\n",
    "type: technical_note\n",
    "draft: false\n",
    "---"
   ]
  },
  {
   "cell_type": "code",
   "execution_count": 1,
   "metadata": {},
   "outputs": [],
   "source": [
    "import numpy as np\n",
    "import scipy.stats\n",
    "import pandas as pd\n",
    "import sklearn"
   ]
  },
  {
   "cell_type": "code",
   "execution_count": 2,
   "metadata": {},
   "outputs": [
    {
     "name": "stdout",
     "output_type": "stream",
     "text": [
      "           Item  Price\n",
      "0         Onion    100\n",
      "1           Egg     10\n",
      "2        Tomato     60\n",
      "3        Carrot     60\n",
      "4       Cabbage     20\n",
      "5          Milk     30\n",
      "6        Potato     50\n",
      "7  Mosquito Bat    200\n",
      "8       Scissor     75\n",
      "9       Shampoo      3\n"
     ]
    }
   ],
   "source": [
    "data = pd.read_csv(\"grocery.csv\")\n",
    "print(data) \n"
   ]
  },
  {
   "cell_type": "code",
   "execution_count": 3,
   "metadata": {},
   "outputs": [],
   "source": [
    "# label encoding the data \n",
    "from sklearn.preprocessing import LabelEncoder \n",
    "\n",
    "le = LabelEncoder() "
   ]
  },
  {
   "cell_type": "code",
   "execution_count": 4,
   "metadata": {},
   "outputs": [
    {
     "name": "stdout",
     "output_type": "stream",
     "text": [
      "   Item  Price\n",
      "0     5    100\n",
      "1     2     10\n",
      "2     9     60\n",
      "3     1     60\n",
      "4     0     20\n",
      "5     3     30\n",
      "6     6     50\n",
      "7     4    200\n",
      "8     7     75\n",
      "9     8      3\n"
     ]
    }
   ],
   "source": [
    "data['Item']= le.fit_transform(data['Item']) \n",
    "print(data)"
   ]
  },
  {
   "cell_type": "code",
   "execution_count": 5,
   "metadata": {},
   "outputs": [],
   "source": [
    "# importing one hot encoder from sklearn \n",
    "from sklearn.preprocessing import OneHotEncoder \n",
    "ohe = OneHotEncoder() \n"
   ]
  },
  {
   "cell_type": "code",
   "execution_count": 6,
   "metadata": {},
   "outputs": [],
   "source": [
    "# one hot encoding the data\n",
    "from sklearn.compose import ColumnTransformer \n",
    "columnTransformer = ColumnTransformer([('encoder', OneHotEncoder(), [0])], remainder='passthrough') "
   ]
  },
  {
   "cell_type": "code",
   "execution_count": 7,
   "metadata": {},
   "outputs": [
    {
     "name": "stdout",
     "output_type": "stream",
     "text": [
      "     0    1    2    3    4    5    6    7    8    9     10\n",
      "0  0.0  0.0  0.0  0.0  0.0  1.0  0.0  0.0  0.0  0.0  100.0\n",
      "1  0.0  0.0  1.0  0.0  0.0  0.0  0.0  0.0  0.0  0.0   10.0\n",
      "2  0.0  0.0  0.0  0.0  0.0  0.0  0.0  0.0  0.0  1.0   60.0\n",
      "3  0.0  1.0  0.0  0.0  0.0  0.0  0.0  0.0  0.0  0.0   60.0\n",
      "4  1.0  0.0  0.0  0.0  0.0  0.0  0.0  0.0  0.0  0.0   20.0\n",
      "5  0.0  0.0  0.0  1.0  0.0  0.0  0.0  0.0  0.0  0.0   30.0\n",
      "6  0.0  0.0  0.0  0.0  0.0  0.0  1.0  0.0  0.0  0.0   50.0\n",
      "7  0.0  0.0  0.0  0.0  1.0  0.0  0.0  0.0  0.0  0.0  200.0\n",
      "8  0.0  0.0  0.0  0.0  0.0  0.0  0.0  1.0  0.0  0.0   75.0\n",
      "9  0.0  0.0  0.0  0.0  0.0  0.0  0.0  0.0  1.0  0.0    3.0\n"
     ]
    }
   ],
   "source": [
    "datum = np.array(columnTransformer.fit_transform(data).toarray()) \n",
    "datum = pd.DataFrame(datum)\n",
    "print(datum)"
   ]
  },
  {
   "cell_type": "code",
   "execution_count": 8,
   "metadata": {},
   "outputs": [
    {
     "name": "stdout",
     "output_type": "stream",
     "text": [
      "     0    1    2    3    4    5    6    7    8    9   10   11   12   13   14  \\\n",
      "0  0.0  0.0  0.0  0.0  0.0  1.0  0.0  0.0  0.0  0.0  0.0  0.0  0.0  0.0  0.0   \n",
      "1  0.0  0.0  1.0  0.0  0.0  0.0  0.0  0.0  0.0  0.0  0.0  1.0  0.0  0.0  0.0   \n",
      "2  0.0  0.0  0.0  0.0  0.0  0.0  0.0  0.0  0.0  1.0  0.0  0.0  0.0  0.0  0.0   \n",
      "3  0.0  1.0  0.0  0.0  0.0  0.0  0.0  0.0  0.0  0.0  0.0  0.0  0.0  0.0  0.0   \n",
      "4  1.0  0.0  0.0  0.0  0.0  0.0  0.0  0.0  0.0  0.0  0.0  0.0  1.0  0.0  0.0   \n",
      "5  0.0  0.0  0.0  1.0  0.0  0.0  0.0  0.0  0.0  0.0  0.0  0.0  0.0  1.0  0.0   \n",
      "6  0.0  0.0  0.0  0.0  0.0  0.0  1.0  0.0  0.0  0.0  0.0  0.0  0.0  0.0  1.0   \n",
      "7  0.0  0.0  0.0  0.0  1.0  0.0  0.0  0.0  0.0  0.0  0.0  0.0  0.0  0.0  0.0   \n",
      "8  0.0  0.0  0.0  0.0  0.0  0.0  0.0  1.0  0.0  0.0  0.0  0.0  0.0  0.0  0.0   \n",
      "9  0.0  0.0  0.0  0.0  0.0  0.0  0.0  0.0  1.0  0.0  1.0  0.0  0.0  0.0  0.0   \n",
      "\n",
      "    15   16   17   18  \n",
      "0  0.0  0.0  1.0  0.0  \n",
      "1  0.0  0.0  0.0  0.0  \n",
      "2  1.0  0.0  0.0  0.0  \n",
      "3  1.0  0.0  0.0  0.0  \n",
      "4  0.0  0.0  0.0  0.0  \n",
      "5  0.0  0.0  0.0  0.0  \n",
      "6  0.0  0.0  0.0  0.0  \n",
      "7  0.0  0.0  0.0  1.0  \n",
      "8  0.0  1.0  0.0  0.0  \n",
      "9  0.0  0.0  0.0  0.0  \n"
     ]
    }
   ],
   "source": [
    "data = ohe.fit_transform(data).toarray()\n",
    "data = pd.DataFrame(data)\n",
    "print(data)"
   ]
  }
 ],
 "metadata": {
  "kernelspec": {
   "display_name": "kagglevil_",
   "language": "python",
   "name": "kagglevil_"
  },
  "language_info": {
   "codemirror_mode": {
    "name": "ipython",
    "version": 3
   },
   "file_extension": ".py",
   "mimetype": "text/x-python",
   "name": "python",
   "nbconvert_exporter": "python",
   "pygments_lexer": "ipython3",
   "version": "3.8.5"
  }
 },
 "nbformat": 4,
 "nbformat_minor": 4
}
