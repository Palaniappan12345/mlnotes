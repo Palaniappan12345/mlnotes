{
 "cells": [
  {
   "cell_type": "raw",
   "metadata": {},
   "source": [
    "---\n",
    "title: \"Pandas-Iteration\"\n",
    "author: \"Palaniappan S\"\n",
    "date: 2020-09-04\n",
    "description: \"-\"\n",
    "type: technical_note\n",
    "draft: false\n",
    "---"
   ]
  },
  {
   "cell_type": "code",
   "execution_count": 4,
   "metadata": {},
   "outputs": [],
   "source": [
    "import numpy as np\n",
    "import scipy.stats\n",
    "import pandas as pd\n",
    "import sklearn"
   ]
  },
  {
   "cell_type": "code",
   "execution_count": 10,
   "metadata": {},
   "outputs": [
    {
     "name": "stdout",
     "output_type": "stream",
     "text": [
      "A\n",
      "x\n",
      "y\n",
      "C\n",
      "D\n"
     ]
    }
   ],
   "source": [
    "N=20\n",
    "df = pd.DataFrame({\n",
    "   'A': pd.date_range(start='2016-01-01',periods=N,freq='D'),\n",
    "   'x': np.linspace(0,stop=N-1,num=N),\n",
    "   'y': np.random.rand(N),\n",
    "   'C': np.random.choice(['Low','Medium','High'],N).tolist(),\n",
    "   'D': np.random.normal(100, 10, size=(N)).tolist()\n",
    "   })\n",
    "\n",
    "for col in df:\n",
    "   print(col)"
   ]
  },
  {
   "cell_type": "code",
   "execution_count": 9,
   "metadata": {},
   "outputs": [
    {
     "name": "stdout",
     "output_type": "stream",
     "text": [
      "col1 0    1.383371\n",
      "1   -0.752669\n",
      "2   -0.989764\n",
      "3    0.184005\n",
      "Name: col1, dtype: float64\n",
      "col2 0   -1.432349\n",
      "1    1.804341\n",
      "2    1.730258\n",
      "3   -0.071981\n",
      "Name: col2, dtype: float64\n",
      "col3 0    1.673208\n",
      "1   -0.460951\n",
      "2    0.117168\n",
      "3    1.432042\n",
      "Name: col3, dtype: float64\n"
     ]
    }
   ],
   "source": [
    "#iteritems()\n",
    "df = pd.DataFrame(np.random.randn(4,3),columns=['col1','col2','col3'])\n",
    "for key,value in df.iteritems():\n",
    "   print (key,value)"
   ]
  },
  {
   "cell_type": "code",
   "execution_count": 11,
   "metadata": {},
   "outputs": [
    {
     "name": "stdout",
     "output_type": "stream",
     "text": [
      "0 col1   -1.598730\n",
      "col2    0.150081\n",
      "col3    2.090892\n",
      "Name: 0, dtype: float64\n",
      "1 col1   -1.005536\n",
      "col2   -0.702690\n",
      "col3   -0.177421\n",
      "Name: 1, dtype: float64\n",
      "2 col1   -1.456623\n",
      "col2    0.005965\n",
      "col3    1.387848\n",
      "Name: 2, dtype: float64\n",
      "3 col1   -0.860579\n",
      "col2    0.687143\n",
      "col3    1.130771\n",
      "Name: 3, dtype: float64\n"
     ]
    }
   ],
   "source": [
    "#iterrows()\n",
    "df = pd.DataFrame(np.random.randn(4,3),columns = ['col1','col2','col3'])\n",
    "for row_index,row in df.iterrows():\n",
    "   print (row_index,row)"
   ]
  },
  {
   "cell_type": "code",
   "execution_count": 12,
   "metadata": {},
   "outputs": [
    {
     "name": "stdout",
     "output_type": "stream",
     "text": [
      "Pandas(Index=0, col1=0.4995751442133796, col2=-1.8822488559989277, col3=0.7296904097725797)\n",
      "Pandas(Index=1, col1=0.9220072487989778, col2=1.2647163095295109, col3=1.4179312382655798)\n",
      "Pandas(Index=2, col1=-0.49672528772288904, col2=1.5933363825396494, col3=-1.2392169822844235)\n",
      "Pandas(Index=3, col1=1.2404854643637526, col2=1.1245862721867765, col3=-0.5181051363165968)\n"
     ]
    }
   ],
   "source": [
    "#itertuples()\n",
    "\n",
    "df = pd.DataFrame(np.random.randn(4,3),columns = ['col1','col2','col3'])\n",
    "for row in df.itertuples():\n",
    "    print (row)"
   ]
  },
  {
   "cell_type": "code",
   "execution_count": 13,
   "metadata": {},
   "outputs": [
    {
     "name": "stdout",
     "output_type": "stream",
     "text": [
      "       col1      col2      col3\n",
      "0  0.320707  1.975114  1.901456\n",
      "1 -0.316004  0.445194  1.563622\n",
      "2  1.344503  0.175026  0.084224\n",
      "3 -1.469521 -0.147534  1.003356\n"
     ]
    }
   ],
   "source": [
    "df = pd.DataFrame(np.random.randn(4,3),columns = ['col1','col2','col3'])\n",
    "\n",
    "for index, row in df.iterrows():\n",
    "   row['a'] = 10\n",
    "print (df)"
   ]
  }
 ],
 "metadata": {
  "kernelspec": {
   "display_name": "kagglevil_",
   "language": "python",
   "name": "kagglevil_"
  },
  "language_info": {
   "codemirror_mode": {
    "name": "ipython",
    "version": 3
   },
   "file_extension": ".py",
   "mimetype": "text/x-python",
   "name": "python",
   "nbconvert_exporter": "python",
   "pygments_lexer": "ipython3",
   "version": "3.8.5"
  }
 },
 "nbformat": 4,
 "nbformat_minor": 4
}
