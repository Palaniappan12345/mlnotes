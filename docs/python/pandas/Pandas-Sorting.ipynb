{
 "cells": [
  {
   "cell_type": "raw",
   "metadata": {},
   "source": [
    "---\n",
    "title: \"Pandas-Sorting\"\n",
    "author: \"Palaniappan S\"\n",
    "date: 2020-09-04\n",
    "description: \"-\"\n",
    "type: technical_note\n",
    "draft: false\n",
    "---"
   ]
  },
  {
   "cell_type": "code",
   "execution_count": 2,
   "metadata": {},
   "outputs": [],
   "source": [
    "import numpy as np\n",
    "import scipy.stats\n",
    "import pandas as pd\n",
    "import sklearn"
   ]
  },
  {
   "cell_type": "code",
   "execution_count": 7,
   "metadata": {},
   "outputs": [
    {
     "data": {
      "text/html": [
       "<div>\n",
       "<style scoped>\n",
       "    .dataframe tbody tr th:only-of-type {\n",
       "        vertical-align: middle;\n",
       "    }\n",
       "\n",
       "    .dataframe tbody tr th {\n",
       "        vertical-align: top;\n",
       "    }\n",
       "\n",
       "    .dataframe thead th {\n",
       "        text-align: right;\n",
       "    }\n",
       "</style>\n",
       "<table border=\"1\" class=\"dataframe\">\n",
       "  <thead>\n",
       "    <tr style=\"text-align: right;\">\n",
       "      <th></th>\n",
       "      <th>col2</th>\n",
       "      <th>col1</th>\n",
       "    </tr>\n",
       "  </thead>\n",
       "  <tbody>\n",
       "    <tr>\n",
       "      <th>1</th>\n",
       "      <td>-0.219984</td>\n",
       "      <td>-0.464369</td>\n",
       "    </tr>\n",
       "    <tr>\n",
       "      <th>4</th>\n",
       "      <td>-1.300591</td>\n",
       "      <td>-0.076174</td>\n",
       "    </tr>\n",
       "    <tr>\n",
       "      <th>6</th>\n",
       "      <td>0.840346</td>\n",
       "      <td>-1.347094</td>\n",
       "    </tr>\n",
       "    <tr>\n",
       "      <th>2</th>\n",
       "      <td>0.221474</td>\n",
       "      <td>0.442064</td>\n",
       "    </tr>\n",
       "    <tr>\n",
       "      <th>3</th>\n",
       "      <td>-0.017141</td>\n",
       "      <td>-0.480142</td>\n",
       "    </tr>\n",
       "    <tr>\n",
       "      <th>5</th>\n",
       "      <td>-0.388411</td>\n",
       "      <td>0.548868</td>\n",
       "    </tr>\n",
       "    <tr>\n",
       "      <th>9</th>\n",
       "      <td>0.254729</td>\n",
       "      <td>0.538852</td>\n",
       "    </tr>\n",
       "    <tr>\n",
       "      <th>8</th>\n",
       "      <td>-0.466358</td>\n",
       "      <td>1.224428</td>\n",
       "    </tr>\n",
       "    <tr>\n",
       "      <th>0</th>\n",
       "      <td>-0.829130</td>\n",
       "      <td>0.832262</td>\n",
       "    </tr>\n",
       "    <tr>\n",
       "      <th>7</th>\n",
       "      <td>-0.341993</td>\n",
       "      <td>-2.400047</td>\n",
       "    </tr>\n",
       "  </tbody>\n",
       "</table>\n",
       "</div>"
      ],
      "text/plain": [
       "       col2      col1\n",
       "1 -0.219984 -0.464369\n",
       "4 -1.300591 -0.076174\n",
       "6  0.840346 -1.347094\n",
       "2  0.221474  0.442064\n",
       "3 -0.017141 -0.480142\n",
       "5 -0.388411  0.548868\n",
       "9  0.254729  0.538852\n",
       "8 -0.466358  1.224428\n",
       "0 -0.829130  0.832262\n",
       "7 -0.341993 -2.400047"
      ]
     },
     "execution_count": 7,
     "metadata": {},
     "output_type": "execute_result"
    }
   ],
   "source": [
    "unsorted_df=pd.DataFrame(np.random.randn(10,2),index=[1,4,6,2,3,5,9,8,0,7],columns=['col2','col1'])\n",
    "(unsorted_df)"
   ]
  },
  {
   "cell_type": "code",
   "execution_count": 8,
   "metadata": {},
   "outputs": [
    {
     "name": "stdout",
     "output_type": "stream",
     "text": [
      "       col2      col1\n",
      "0 -0.829130  0.832262\n",
      "1 -0.219984 -0.464369\n",
      "2  0.221474  0.442064\n",
      "3 -0.017141 -0.480142\n",
      "4 -1.300591 -0.076174\n",
      "5 -0.388411  0.548868\n",
      "6  0.840346 -1.347094\n",
      "7 -0.341993 -2.400047\n",
      "8 -0.466358  1.224428\n",
      "9  0.254729  0.538852\n"
     ]
    }
   ],
   "source": [
    "sorted_df=unsorted_df.sort_index()\n",
    "print (sorted_df)"
   ]
  },
  {
   "cell_type": "code",
   "execution_count": 9,
   "metadata": {},
   "outputs": [
    {
     "name": "stdout",
     "output_type": "stream",
     "text": [
      "       col2      col1\n",
      "9  0.254729  0.538852\n",
      "8 -0.466358  1.224428\n",
      "7 -0.341993 -2.400047\n",
      "6  0.840346 -1.347094\n",
      "5 -0.388411  0.548868\n",
      "4 -1.300591 -0.076174\n",
      "3 -0.017141 -0.480142\n",
      "2  0.221474  0.442064\n",
      "1 -0.219984 -0.464369\n",
      "0 -0.829130  0.832262\n"
     ]
    }
   ],
   "source": [
    "sorted_df = unsorted_df.sort_index(ascending=False)\n",
    "print (sorted_df)"
   ]
  },
  {
   "cell_type": "code",
   "execution_count": 10,
   "metadata": {},
   "outputs": [
    {
     "name": "stdout",
     "output_type": "stream",
     "text": [
      "       col1      col2\n",
      "1 -0.464369 -0.219984\n",
      "4 -0.076174 -1.300591\n",
      "6 -1.347094  0.840346\n",
      "2  0.442064  0.221474\n",
      "3 -0.480142 -0.017141\n",
      "5  0.548868 -0.388411\n",
      "9  0.538852  0.254729\n",
      "8  1.224428 -0.466358\n",
      "0  0.832262 -0.829130\n",
      "7 -2.400047 -0.341993\n"
     ]
    }
   ],
   "source": [
    "sorted_df=unsorted_df.sort_index(axis=1)\n",
    "\n",
    "print (sorted_df)"
   ]
  },
  {
   "cell_type": "code",
   "execution_count": 12,
   "metadata": {},
   "outputs": [
    {
     "name": "stdout",
     "output_type": "stream",
     "text": [
      "   col1  col2\n",
      "1     1     3\n",
      "2     1     2\n",
      "3     1     4\n",
      "0     2     1\n"
     ]
    }
   ],
   "source": [
    "unsorted_df = pd.DataFrame({'col1':[2,1,1,1],'col2':[1,3,2,4]})\n",
    "sorted_df = unsorted_df.sort_values(by='col1')\n",
    "\n",
    "print (sorted_df)"
   ]
  },
  {
   "cell_type": "code",
   "execution_count": 13,
   "metadata": {},
   "outputs": [
    {
     "name": "stdout",
     "output_type": "stream",
     "text": [
      "   col1  col2\n",
      "1     1     3\n",
      "2     1     2\n",
      "3     1     4\n",
      "0     2     1\n"
     ]
    }
   ],
   "source": [
    "unsorted_df = pd.DataFrame({'col1':[2,1,1,1],'col2':[1,3,2,4]})\n",
    "sorted_df = unsorted_df.sort_values(by='col1' ,kind='mergesort')\n",
    "\n",
    "print (sorted_df)"
   ]
  }
 ],
 "metadata": {
  "kernelspec": {
   "display_name": "kagglevil_",
   "language": "python",
   "name": "kagglevil_"
  },
  "language_info": {
   "codemirror_mode": {
    "name": "ipython",
    "version": 3
   },
   "file_extension": ".py",
   "mimetype": "text/x-python",
   "name": "python",
   "nbconvert_exporter": "python",
   "pygments_lexer": "ipython3",
   "version": "3.8.5"
  }
 },
 "nbformat": 4,
 "nbformat_minor": 4
}
