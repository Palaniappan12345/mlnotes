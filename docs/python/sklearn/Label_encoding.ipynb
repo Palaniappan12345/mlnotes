{
 "cells": [
  {
   "cell_type": "raw",
   "metadata": {},
   "source": [
    "---\n",
    "title: \"Label-encoding\"\n",
    "author: \"Palaniappan S\"\n",
    "date: 2020-09-04\n",
    "description: \"-\"\n",
    "type: technical_note\n",
    "draft: false\n",
    "---"
   ]
  },
  {
   "cell_type": "code",
   "execution_count": 7,
   "metadata": {},
   "outputs": [],
   "source": [
    "import numpy as np\n",
    "import scipy.stats\n",
    "import pandas as pd\n",
    "import sklearn"
   ]
  },
  {
   "cell_type": "code",
   "execution_count": 8,
   "metadata": {},
   "outputs": [
    {
     "name": "stdout",
     "output_type": "stream",
     "text": [
      "           Item  Price\n",
      "0         Onion    100\n",
      "1           Egg     10\n",
      "2        Tomato     60\n",
      "3        Carrot     60\n",
      "4       Cabbage     20\n",
      "5          Milk     30\n",
      "6        Potato     50\n",
      "7  Mosquito Bat    200\n",
      "8       Scissor     75\n",
      "9       Shampoo      3\n"
     ]
    }
   ],
   "source": [
    "data = pd.read_csv(\"grocery.csv\")\n",
    "print(data) \n"
   ]
  },
  {
   "cell_type": "code",
   "execution_count": 9,
   "metadata": {},
   "outputs": [],
   "source": [
    "# label encoding the data \n",
    "from sklearn.preprocessing import LabelEncoder \n",
    "\n",
    "le = LabelEncoder() "
   ]
  },
  {
   "cell_type": "code",
   "execution_count": 10,
   "metadata": {},
   "outputs": [
    {
     "name": "stdout",
     "output_type": "stream",
     "text": [
      "   Item  Price\n",
      "0     5    100\n",
      "1     2     10\n",
      "2     9     60\n",
      "3     1     60\n",
      "4     0     20\n",
      "5     3     30\n",
      "6     6     50\n",
      "7     4    200\n",
      "8     7     75\n",
      "9     8      3\n"
     ]
    }
   ],
   "source": [
    "data['Item']= le.fit_transform(data['Item']) \n",
    "print(data)"
   ]
  }
 ],
 "metadata": {
  "kernelspec": {
   "display_name": "kagglevil_",
   "language": "python",
   "name": "kagglevil_"
  },
  "language_info": {
   "codemirror_mode": {
    "name": "ipython",
    "version": 3
   },
   "file_extension": ".py",
   "mimetype": "text/x-python",
   "name": "python",
   "nbconvert_exporter": "python",
   "pygments_lexer": "ipython3",
   "version": "3.8.5"
  }
 },
 "nbformat": 4,
 "nbformat_minor": 4
}
